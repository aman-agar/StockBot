{
  "cells": [
    {
      "cell_type": "code",
      "execution_count": 1,
      "metadata": {
        "colab": {
          "base_uri": "https://localhost:8080/"
        },
        "id": "xgkJHC7gjXM9",
        "outputId": "e5fe58fd-5ae7-4311-e129-45fd5bdf80e2"
      },
      "outputs": [
        {
          "name": "stdout",
          "output_type": "stream",
          "text": [
            "Installed packages Successfullyy!\n"
          ]
        }
      ],
      "source": [
        "!pip install tensorflow-gpu==2.0.0-alpha0\n",
        "!pip install tiingo[pandas]\n",
        "from IPython.display import clear_output\n",
        "clear_output(wait=True)\n",
        "print(\"Installed packages Successfullyy!\")"
      ]
    },
    {
      "cell_type": "code",
      "execution_count": 2,
      "metadata": {
        "id": "o95kgOYRjedH"
      },
      "outputs": [],
      "source": [
        "import os\n",
        "import numpy as np\n",
        "import tensorflow as tf\n",
        "from tensorflow import keras\n",
        "import pandas as pd\n",
        "import seaborn as sns\n",
        "from pylab import rcParams\n",
        "import matplotlib.pyplot as plt\n",
        "from matplotlib import rc\n",
        "from sklearn.preprocessing import MinMaxScaler\n",
        "from tensorflow.keras.layers import Bidirectional, Dropout, Activation, Dense, LSTM, Flatten\n",
        "from tensorflow.python.keras.layers import CuDNNLSTM\n",
        "from tensorflow.keras.models import Sequential\n",
        "# from tf.keras.metrics import MeanAveragePrecisionMetric\n",
        "\n",
        "%matplotlib inline\n",
        "\n",
        "# sns.set(style='whitegrid', palette='muted', font_scale=1.5)\n",
        "plt.style.use('fivethirtyeight')\n",
        "\n",
        "rcParams['figure.figsize'] = 12, 6\n",
        "\n",
        "RANDOM_SEED = 42\n",
        "\n",
        "np.random.seed(RANDOM_SEED)"
      ]
    },
    {
      "cell_type": "markdown",
      "metadata": {
        "id": "so6hcfcoj4md"
      },
      "source": [
        "# **Setting up Tiingo Client**"
      ]
    },
    {
      "cell_type": "code",
      "execution_count": 3,
      "metadata": {
        "id": "5XEIw3GVP74B"
      },
      "outputs": [],
      "source": [
        "from tiingo import TiingoClient\n",
        "config = {}\n",
        "config['session'] = True\n",
        "config['api_key'] = \"44c3cbbc4115125fe0f7012c67b29d10f0be5a00\"\n",
        "\n",
        "client = TiingoClient(config)"
      ]
    },
    {
      "cell_type": "code",
      "execution_count": 4,
      "metadata": {
        "id": "bk9I5VlvQwxq"
      },
      "outputs": [],
      "source": [
        "df = client.get_dataframe('BTCUSD',\n",
        "                          startDate='2017-01-01',\n",
        "                          endDate='2023-06-18'\n",
        "                          )"
      ]
    },
    {
      "cell_type": "markdown",
      "metadata": {
        "id": "qCMFbpxskAp9"
      },
      "source": [
        "# **Preprocessing**"
      ]
    },
    {
      "cell_type": "code",
      "execution_count": 5,
      "metadata": {
        "id": "YBlLhS-4d2qX"
      },
      "outputs": [],
      "source": [
        "# Getting range of dates\n",
        "from datetime import timedelta, date\n",
        "# dates=[]\n",
        "def daterange(date1, date2):\n",
        "    for n in range(int ((date2 - date1).days)+1):\n",
        "        yield date1 + timedelta(n)\n",
        "\n",
        "start_dt = date(2017, 1, 1)\n",
        "end_dt = date(2023, 6, 18)\n",
        "def getDateRange(start_dt, end_dt):\n",
        "  dates = []\n",
        "  for dt in daterange(start_dt, end_dt):\n",
        "      dates.append(dt.strftime(\"%Y-%m-%d\"))\n",
        "  return dates\n",
        "dates = getDateRange(start_dt, end_dt)"
      ]
    },
    {
      "cell_type": "code",
      "execution_count": 6,
      "metadata": {
        "colab": {
          "base_uri": "https://localhost:8080/",
          "height": 237
        },
        "id": "mU4B3eNtLpgH",
        "outputId": "6aebdc09-64f4-4ba6-93bd-e9ba0f23b976"
      },
      "outputs": [
        {
          "data": {
            "text/html": [
              "\n",
              "  <div id=\"df-e5381ea1-eb2c-4182-a81b-7ed40138e1b3\">\n",
              "    <div class=\"colab-df-container\">\n",
              "      <div>\n",
              "<style scoped>\n",
              "    .dataframe tbody tr th:only-of-type {\n",
              "        vertical-align: middle;\n",
              "    }\n",
              "\n",
              "    .dataframe tbody tr th {\n",
              "        vertical-align: top;\n",
              "    }\n",
              "\n",
              "    .dataframe thead th {\n",
              "        text-align: right;\n",
              "    }\n",
              "</style>\n",
              "<table border=\"1\" class=\"dataframe\">\n",
              "  <thead>\n",
              "    <tr style=\"text-align: right;\">\n",
              "      <th></th>\n",
              "      <th>close</th>\n",
              "      <th>high</th>\n",
              "      <th>low</th>\n",
              "      <th>open</th>\n",
              "      <th>volume</th>\n",
              "      <th>adjClose</th>\n",
              "      <th>adjHigh</th>\n",
              "      <th>adjLow</th>\n",
              "      <th>adjOpen</th>\n",
              "      <th>adjVolume</th>\n",
              "      <th>divCash</th>\n",
              "      <th>splitFactor</th>\n",
              "    </tr>\n",
              "    <tr>\n",
              "      <th>date</th>\n",
              "      <th></th>\n",
              "      <th></th>\n",
              "      <th></th>\n",
              "      <th></th>\n",
              "      <th></th>\n",
              "      <th></th>\n",
              "      <th></th>\n",
              "      <th></th>\n",
              "      <th></th>\n",
              "      <th></th>\n",
              "      <th></th>\n",
              "      <th></th>\n",
              "    </tr>\n",
              "  </thead>\n",
              "  <tbody>\n",
              "    <tr>\n",
              "      <th>2017-01-02 00:00:00+00:00</th>\n",
              "      <td>997.75</td>\n",
              "      <td>1034.355016</td>\n",
              "      <td>960.530000</td>\n",
              "      <td>999.873057</td>\n",
              "      <td>8682.177030</td>\n",
              "      <td>997.75</td>\n",
              "      <td>1034.355016</td>\n",
              "      <td>960.530000</td>\n",
              "      <td>999.873057</td>\n",
              "      <td>8682.177030</td>\n",
              "      <td>0.0</td>\n",
              "      <td>1.0</td>\n",
              "    </tr>\n",
              "    <tr>\n",
              "      <th>2017-01-03 00:00:00+00:00</th>\n",
              "      <td>1012.54</td>\n",
              "      <td>1042.005416</td>\n",
              "      <td>990.010000</td>\n",
              "      <td>1019.000001</td>\n",
              "      <td>9507.151213</td>\n",
              "      <td>1012.54</td>\n",
              "      <td>1042.005416</td>\n",
              "      <td>990.010000</td>\n",
              "      <td>1019.000001</td>\n",
              "      <td>9507.151213</td>\n",
              "      <td>0.0</td>\n",
              "      <td>1.0</td>\n",
              "    </tr>\n",
              "    <tr>\n",
              "      <th>2017-01-04 00:00:00+00:00</th>\n",
              "      <td>1035.24</td>\n",
              "      <td>1147.982587</td>\n",
              "      <td>999.990000</td>\n",
              "      <td>1037.097956</td>\n",
              "      <td>12891.887764</td>\n",
              "      <td>1035.24</td>\n",
              "      <td>1147.982587</td>\n",
              "      <td>999.990000</td>\n",
              "      <td>1037.097956</td>\n",
              "      <td>12891.887764</td>\n",
              "      <td>0.0</td>\n",
              "      <td>1.0</td>\n",
              "    </tr>\n",
              "    <tr>\n",
              "      <th>2017-01-05 00:00:00+00:00</th>\n",
              "      <td>1114.92</td>\n",
              "      <td>1159.095335</td>\n",
              "      <td>881.982128</td>\n",
              "      <td>1133.942221</td>\n",
              "      <td>31165.394385</td>\n",
              "      <td>1114.92</td>\n",
              "      <td>1159.095335</td>\n",
              "      <td>881.982128</td>\n",
              "      <td>1133.942221</td>\n",
              "      <td>31165.394385</td>\n",
              "      <td>0.0</td>\n",
              "      <td>1.0</td>\n",
              "    </tr>\n",
              "    <tr>\n",
              "      <th>2017-01-06 00:00:00+00:00</th>\n",
              "      <td>1004.74</td>\n",
              "      <td>1136.720000</td>\n",
              "      <td>870.029769</td>\n",
              "      <td>998.857874</td>\n",
              "      <td>42266.879034</td>\n",
              "      <td>1004.74</td>\n",
              "      <td>1136.720000</td>\n",
              "      <td>870.029769</td>\n",
              "      <td>998.857874</td>\n",
              "      <td>42266.879034</td>\n",
              "      <td>0.0</td>\n",
              "      <td>1.0</td>\n",
              "    </tr>\n",
              "  </tbody>\n",
              "</table>\n",
              "</div>\n",
              "      <button class=\"colab-df-convert\" onclick=\"convertToInteractive('df-e5381ea1-eb2c-4182-a81b-7ed40138e1b3')\"\n",
              "              title=\"Convert this dataframe to an interactive table.\"\n",
              "              style=\"display:none;\">\n",
              "        \n",
              "  <svg xmlns=\"http://www.w3.org/2000/svg\" height=\"24px\"viewBox=\"0 0 24 24\"\n",
              "       width=\"24px\">\n",
              "    <path d=\"M0 0h24v24H0V0z\" fill=\"none\"/>\n",
              "    <path d=\"M18.56 5.44l.94 2.06.94-2.06 2.06-.94-2.06-.94-.94-2.06-.94 2.06-2.06.94zm-11 1L8.5 8.5l.94-2.06 2.06-.94-2.06-.94L8.5 2.5l-.94 2.06-2.06.94zm10 10l.94 2.06.94-2.06 2.06-.94-2.06-.94-.94-2.06-.94 2.06-2.06.94z\"/><path d=\"M17.41 7.96l-1.37-1.37c-.4-.4-.92-.59-1.43-.59-.52 0-1.04.2-1.43.59L10.3 9.45l-7.72 7.72c-.78.78-.78 2.05 0 2.83L4 21.41c.39.39.9.59 1.41.59.51 0 1.02-.2 1.41-.59l7.78-7.78 2.81-2.81c.8-.78.8-2.07 0-2.86zM5.41 20L4 18.59l7.72-7.72 1.47 1.35L5.41 20z\"/>\n",
              "  </svg>\n",
              "      </button>\n",
              "      \n",
              "  <style>\n",
              "    .colab-df-container {\n",
              "      display:flex;\n",
              "      flex-wrap:wrap;\n",
              "      gap: 12px;\n",
              "    }\n",
              "\n",
              "    .colab-df-convert {\n",
              "      background-color: #E8F0FE;\n",
              "      border: none;\n",
              "      border-radius: 50%;\n",
              "      cursor: pointer;\n",
              "      display: none;\n",
              "      fill: #1967D2;\n",
              "      height: 32px;\n",
              "      padding: 0 0 0 0;\n",
              "      width: 32px;\n",
              "    }\n",
              "\n",
              "    .colab-df-convert:hover {\n",
              "      background-color: #E2EBFA;\n",
              "      box-shadow: 0px 1px 2px rgba(60, 64, 67, 0.3), 0px 1px 3px 1px rgba(60, 64, 67, 0.15);\n",
              "      fill: #174EA6;\n",
              "    }\n",
              "\n",
              "    [theme=dark] .colab-df-convert {\n",
              "      background-color: #3B4455;\n",
              "      fill: #D2E3FC;\n",
              "    }\n",
              "\n",
              "    [theme=dark] .colab-df-convert:hover {\n",
              "      background-color: #434B5C;\n",
              "      box-shadow: 0px 1px 3px 1px rgba(0, 0, 0, 0.15);\n",
              "      filter: drop-shadow(0px 1px 2px rgba(0, 0, 0, 0.3));\n",
              "      fill: #FFFFFF;\n",
              "    }\n",
              "  </style>\n",
              "\n",
              "      <script>\n",
              "        const buttonEl =\n",
              "          document.querySelector('#df-e5381ea1-eb2c-4182-a81b-7ed40138e1b3 button.colab-df-convert');\n",
              "        buttonEl.style.display =\n",
              "          google.colab.kernel.accessAllowed ? 'block' : 'none';\n",
              "\n",
              "        async function convertToInteractive(key) {\n",
              "          const element = document.querySelector('#df-e5381ea1-eb2c-4182-a81b-7ed40138e1b3');\n",
              "          const dataTable =\n",
              "            await google.colab.kernel.invokeFunction('convertToInteractive',\n",
              "                                                     [key], {});\n",
              "          if (!dataTable) return;\n",
              "\n",
              "          const docLinkHtml = 'Like what you see? Visit the ' +\n",
              "            '<a target=\"_blank\" href=https://colab.research.google.com/notebooks/data_table.ipynb>data table notebook</a>'\n",
              "            + ' to learn more about interactive tables.';\n",
              "          element.innerHTML = '';\n",
              "          dataTable['output_type'] = 'display_data';\n",
              "          await google.colab.output.renderOutput(dataTable, element);\n",
              "          const docLink = document.createElement('div');\n",
              "          docLink.innerHTML = docLinkHtml;\n",
              "          element.appendChild(docLink);\n",
              "        }\n",
              "      </script>\n",
              "    </div>\n",
              "  </div>\n",
              "  "
            ],
            "text/plain": [
              "                             close         high         low         open  \\\n",
              "date                                                                       \n",
              "2017-01-02 00:00:00+00:00   997.75  1034.355016  960.530000   999.873057   \n",
              "2017-01-03 00:00:00+00:00  1012.54  1042.005416  990.010000  1019.000001   \n",
              "2017-01-04 00:00:00+00:00  1035.24  1147.982587  999.990000  1037.097956   \n",
              "2017-01-05 00:00:00+00:00  1114.92  1159.095335  881.982128  1133.942221   \n",
              "2017-01-06 00:00:00+00:00  1004.74  1136.720000  870.029769   998.857874   \n",
              "\n",
              "                                 volume  adjClose      adjHigh      adjLow  \\\n",
              "date                                                                         \n",
              "2017-01-02 00:00:00+00:00   8682.177030    997.75  1034.355016  960.530000   \n",
              "2017-01-03 00:00:00+00:00   9507.151213   1012.54  1042.005416  990.010000   \n",
              "2017-01-04 00:00:00+00:00  12891.887764   1035.24  1147.982587  999.990000   \n",
              "2017-01-05 00:00:00+00:00  31165.394385   1114.92  1159.095335  881.982128   \n",
              "2017-01-06 00:00:00+00:00  42266.879034   1004.74  1136.720000  870.029769   \n",
              "\n",
              "                               adjOpen     adjVolume  divCash  splitFactor  \n",
              "date                                                                        \n",
              "2017-01-02 00:00:00+00:00   999.873057   8682.177030      0.0          1.0  \n",
              "2017-01-03 00:00:00+00:00  1019.000001   9507.151213      0.0          1.0  \n",
              "2017-01-04 00:00:00+00:00  1037.097956  12891.887764      0.0          1.0  \n",
              "2017-01-05 00:00:00+00:00  1133.942221  31165.394385      0.0          1.0  \n",
              "2017-01-06 00:00:00+00:00   998.857874  42266.879034      0.0          1.0  "
            ]
          },
          "execution_count": 6,
          "metadata": {},
          "output_type": "execute_result"
        }
      ],
      "source": [
        "df.head()"
      ]
    },
    {
      "cell_type": "code",
      "execution_count": 7,
      "metadata": {
        "colab": {
          "base_uri": "https://localhost:8080/",
          "height": 281
        },
        "id": "MKI_BHQPaUPF",
        "outputId": "53e02125-553b-4e84-8fe6-c9d0f61db1c5"
      },
      "outputs": [
        {
          "data": {
            "text/html": [
              "\n",
              "  <div id=\"df-29f98b01-caf6-4fa1-9eb4-6f00ec7bdb41\">\n",
              "    <div class=\"colab-df-container\">\n",
              "      <div>\n",
              "<style scoped>\n",
              "    .dataframe tbody tr th:only-of-type {\n",
              "        vertical-align: middle;\n",
              "    }\n",
              "\n",
              "    .dataframe tbody tr th {\n",
              "        vertical-align: top;\n",
              "    }\n",
              "\n",
              "    .dataframe thead th {\n",
              "        text-align: right;\n",
              "    }\n",
              "</style>\n",
              "<table border=\"1\" class=\"dataframe\">\n",
              "  <thead>\n",
              "    <tr style=\"text-align: right;\">\n",
              "      <th></th>\n",
              "      <th>close</th>\n",
              "      <th>high</th>\n",
              "      <th>low</th>\n",
              "      <th>open</th>\n",
              "      <th>volume</th>\n",
              "      <th>adjClose</th>\n",
              "      <th>adjHigh</th>\n",
              "      <th>adjLow</th>\n",
              "      <th>adjOpen</th>\n",
              "      <th>adjVolume</th>\n",
              "      <th>divCash</th>\n",
              "      <th>splitFactor</th>\n",
              "    </tr>\n",
              "    <tr>\n",
              "      <th>date</th>\n",
              "      <th></th>\n",
              "      <th></th>\n",
              "      <th></th>\n",
              "      <th></th>\n",
              "      <th></th>\n",
              "      <th></th>\n",
              "      <th></th>\n",
              "      <th></th>\n",
              "      <th></th>\n",
              "      <th></th>\n",
              "      <th></th>\n",
              "      <th></th>\n",
              "    </tr>\n",
              "  </thead>\n",
              "  <tbody>\n",
              "    <tr>\n",
              "      <th>2023-06-15 00:00:00+00:00</th>\n",
              "      <td>25572.803017</td>\n",
              "      <td>25749.796379</td>\n",
              "      <td>24753.996910</td>\n",
              "      <td>25124.730920</td>\n",
              "      <td>22165.136015</td>\n",
              "      <td>25572.803017</td>\n",
              "      <td>25749.796379</td>\n",
              "      <td>24753.996910</td>\n",
              "      <td>25124.730920</td>\n",
              "      <td>22165.136015</td>\n",
              "      <td>0.0</td>\n",
              "      <td>1.0</td>\n",
              "    </tr>\n",
              "    <tr>\n",
              "      <th>2023-06-16 00:00:00+00:00</th>\n",
              "      <td>26330.709227</td>\n",
              "      <td>26490.523078</td>\n",
              "      <td>25147.237849</td>\n",
              "      <td>25572.619646</td>\n",
              "      <td>19352.290279</td>\n",
              "      <td>26330.709227</td>\n",
              "      <td>26490.523078</td>\n",
              "      <td>25147.237849</td>\n",
              "      <td>25572.619646</td>\n",
              "      <td>19352.290279</td>\n",
              "      <td>0.0</td>\n",
              "      <td>1.0</td>\n",
              "    </tr>\n",
              "    <tr>\n",
              "      <th>2023-06-17 00:00:00+00:00</th>\n",
              "      <td>26509.653006</td>\n",
              "      <td>26790.689432</td>\n",
              "      <td>26170.115626</td>\n",
              "      <td>26331.821882</td>\n",
              "      <td>8851.712221</td>\n",
              "      <td>26509.653006</td>\n",
              "      <td>26790.689432</td>\n",
              "      <td>26170.115626</td>\n",
              "      <td>26331.821882</td>\n",
              "      <td>8851.712221</td>\n",
              "      <td>0.0</td>\n",
              "      <td>1.0</td>\n",
              "    </tr>\n",
              "    <tr>\n",
              "      <th>2023-06-18 00:00:00+00:00</th>\n",
              "      <td>26338.200568</td>\n",
              "      <td>26694.939132</td>\n",
              "      <td>26249.027233</td>\n",
              "      <td>26510.588655</td>\n",
              "      <td>6423.388291</td>\n",
              "      <td>26338.200568</td>\n",
              "      <td>26694.939132</td>\n",
              "      <td>26249.027233</td>\n",
              "      <td>26510.588655</td>\n",
              "      <td>6423.388291</td>\n",
              "      <td>0.0</td>\n",
              "      <td>1.0</td>\n",
              "    </tr>\n",
              "    <tr>\n",
              "      <th>2023-06-19 00:00:00+00:00</th>\n",
              "      <td>26839.689811</td>\n",
              "      <td>27042.715609</td>\n",
              "      <td>26255.235666</td>\n",
              "      <td>26338.076829</td>\n",
              "      <td>12097.978510</td>\n",
              "      <td>26839.689811</td>\n",
              "      <td>27042.715609</td>\n",
              "      <td>26255.235666</td>\n",
              "      <td>26338.076829</td>\n",
              "      <td>12097.978510</td>\n",
              "      <td>0.0</td>\n",
              "      <td>1.0</td>\n",
              "    </tr>\n",
              "  </tbody>\n",
              "</table>\n",
              "</div>\n",
              "      <button class=\"colab-df-convert\" onclick=\"convertToInteractive('df-29f98b01-caf6-4fa1-9eb4-6f00ec7bdb41')\"\n",
              "              title=\"Convert this dataframe to an interactive table.\"\n",
              "              style=\"display:none;\">\n",
              "        \n",
              "  <svg xmlns=\"http://www.w3.org/2000/svg\" height=\"24px\"viewBox=\"0 0 24 24\"\n",
              "       width=\"24px\">\n",
              "    <path d=\"M0 0h24v24H0V0z\" fill=\"none\"/>\n",
              "    <path d=\"M18.56 5.44l.94 2.06.94-2.06 2.06-.94-2.06-.94-.94-2.06-.94 2.06-2.06.94zm-11 1L8.5 8.5l.94-2.06 2.06-.94-2.06-.94L8.5 2.5l-.94 2.06-2.06.94zm10 10l.94 2.06.94-2.06 2.06-.94-2.06-.94-.94-2.06-.94 2.06-2.06.94z\"/><path d=\"M17.41 7.96l-1.37-1.37c-.4-.4-.92-.59-1.43-.59-.52 0-1.04.2-1.43.59L10.3 9.45l-7.72 7.72c-.78.78-.78 2.05 0 2.83L4 21.41c.39.39.9.59 1.41.59.51 0 1.02-.2 1.41-.59l7.78-7.78 2.81-2.81c.8-.78.8-2.07 0-2.86zM5.41 20L4 18.59l7.72-7.72 1.47 1.35L5.41 20z\"/>\n",
              "  </svg>\n",
              "      </button>\n",
              "      \n",
              "  <style>\n",
              "    .colab-df-container {\n",
              "      display:flex;\n",
              "      flex-wrap:wrap;\n",
              "      gap: 12px;\n",
              "    }\n",
              "\n",
              "    .colab-df-convert {\n",
              "      background-color: #E8F0FE;\n",
              "      border: none;\n",
              "      border-radius: 50%;\n",
              "      cursor: pointer;\n",
              "      display: none;\n",
              "      fill: #1967D2;\n",
              "      height: 32px;\n",
              "      padding: 0 0 0 0;\n",
              "      width: 32px;\n",
              "    }\n",
              "\n",
              "    .colab-df-convert:hover {\n",
              "      background-color: #E2EBFA;\n",
              "      box-shadow: 0px 1px 2px rgba(60, 64, 67, 0.3), 0px 1px 3px 1px rgba(60, 64, 67, 0.15);\n",
              "      fill: #174EA6;\n",
              "    }\n",
              "\n",
              "    [theme=dark] .colab-df-convert {\n",
              "      background-color: #3B4455;\n",
              "      fill: #D2E3FC;\n",
              "    }\n",
              "\n",
              "    [theme=dark] .colab-df-convert:hover {\n",
              "      background-color: #434B5C;\n",
              "      box-shadow: 0px 1px 3px 1px rgba(0, 0, 0, 0.15);\n",
              "      filter: drop-shadow(0px 1px 2px rgba(0, 0, 0, 0.3));\n",
              "      fill: #FFFFFF;\n",
              "    }\n",
              "  </style>\n",
              "\n",
              "      <script>\n",
              "        const buttonEl =\n",
              "          document.querySelector('#df-29f98b01-caf6-4fa1-9eb4-6f00ec7bdb41 button.colab-df-convert');\n",
              "        buttonEl.style.display =\n",
              "          google.colab.kernel.accessAllowed ? 'block' : 'none';\n",
              "\n",
              "        async function convertToInteractive(key) {\n",
              "          const element = document.querySelector('#df-29f98b01-caf6-4fa1-9eb4-6f00ec7bdb41');\n",
              "          const dataTable =\n",
              "            await google.colab.kernel.invokeFunction('convertToInteractive',\n",
              "                                                     [key], {});\n",
              "          if (!dataTable) return;\n",
              "\n",
              "          const docLinkHtml = 'Like what you see? Visit the ' +\n",
              "            '<a target=\"_blank\" href=https://colab.research.google.com/notebooks/data_table.ipynb>data table notebook</a>'\n",
              "            + ' to learn more about interactive tables.';\n",
              "          element.innerHTML = '';\n",
              "          dataTable['output_type'] = 'display_data';\n",
              "          await google.colab.output.renderOutput(dataTable, element);\n",
              "          const docLink = document.createElement('div');\n",
              "          docLink.innerHTML = docLinkHtml;\n",
              "          element.appendChild(docLink);\n",
              "        }\n",
              "      </script>\n",
              "    </div>\n",
              "  </div>\n",
              "  "
            ],
            "text/plain": [
              "                                  close          high           low  \\\n",
              "date                                                                  \n",
              "2023-06-15 00:00:00+00:00  25572.803017  25749.796379  24753.996910   \n",
              "2023-06-16 00:00:00+00:00  26330.709227  26490.523078  25147.237849   \n",
              "2023-06-17 00:00:00+00:00  26509.653006  26790.689432  26170.115626   \n",
              "2023-06-18 00:00:00+00:00  26338.200568  26694.939132  26249.027233   \n",
              "2023-06-19 00:00:00+00:00  26839.689811  27042.715609  26255.235666   \n",
              "\n",
              "                                   open        volume      adjClose  \\\n",
              "date                                                                  \n",
              "2023-06-15 00:00:00+00:00  25124.730920  22165.136015  25572.803017   \n",
              "2023-06-16 00:00:00+00:00  25572.619646  19352.290279  26330.709227   \n",
              "2023-06-17 00:00:00+00:00  26331.821882   8851.712221  26509.653006   \n",
              "2023-06-18 00:00:00+00:00  26510.588655   6423.388291  26338.200568   \n",
              "2023-06-19 00:00:00+00:00  26338.076829  12097.978510  26839.689811   \n",
              "\n",
              "                                adjHigh        adjLow       adjOpen  \\\n",
              "date                                                                  \n",
              "2023-06-15 00:00:00+00:00  25749.796379  24753.996910  25124.730920   \n",
              "2023-06-16 00:00:00+00:00  26490.523078  25147.237849  25572.619646   \n",
              "2023-06-17 00:00:00+00:00  26790.689432  26170.115626  26331.821882   \n",
              "2023-06-18 00:00:00+00:00  26694.939132  26249.027233  26510.588655   \n",
              "2023-06-19 00:00:00+00:00  27042.715609  26255.235666  26338.076829   \n",
              "\n",
              "                              adjVolume  divCash  splitFactor  \n",
              "date                                                           \n",
              "2023-06-15 00:00:00+00:00  22165.136015      0.0          1.0  \n",
              "2023-06-16 00:00:00+00:00  19352.290279      0.0          1.0  \n",
              "2023-06-17 00:00:00+00:00   8851.712221      0.0          1.0  \n",
              "2023-06-18 00:00:00+00:00   6423.388291      0.0          1.0  \n",
              "2023-06-19 00:00:00+00:00  12097.978510      0.0          1.0  "
            ]
          },
          "execution_count": 7,
          "metadata": {},
          "output_type": "execute_result"
        }
      ],
      "source": [
        "df.tail()"
      ]
    },
    {
      "cell_type": "code",
      "execution_count": 8,
      "metadata": {
        "colab": {
          "base_uri": "https://localhost:8080/"
        },
        "id": "t-xB1zK0C0mG",
        "outputId": "69ace83b-a0d9-4e6f-912a-6d085ef8030f"
      },
      "outputs": [
        {
          "data": {
            "text/plain": [
              "(2360, 12)"
            ]
          },
          "execution_count": 8,
          "metadata": {},
          "output_type": "execute_result"
        }
      ],
      "source": [
        "df.shape"
      ]
    },
    {
      "cell_type": "code",
      "execution_count": 9,
      "metadata": {
        "id": "PCOZhFHQdEQ_"
      },
      "outputs": [],
      "source": [
        "closeprice=[]\n",
        "def close(df):\n",
        "  closeprice = []\n",
        "  for i in range(df.shape[0]):\n",
        "    closeprice.append(df['close'][i])\n",
        "  # print(len(closeprice))\n",
        "  return closeprice\n",
        "closeprice = close(df)"
      ]
    },
    {
      "cell_type": "code",
      "execution_count": 10,
      "metadata": {
        "colab": {
          "base_uri": "https://localhost:8080/",
          "height": 223
        },
        "id": "LjfmQ6ICsEEw",
        "outputId": "1fa4d8eb-7a91-4c6e-c1aa-3184fb2b073e"
      },
      "outputs": [
        {
          "name": "stdout",
          "output_type": "stream",
          "text": [
            "2360\n"
          ]
        },
        {
          "data": {
            "text/html": [
              "\n",
              "  <div id=\"df-1509e688-af00-41ae-ad7f-9273f1c1b5e9\">\n",
              "    <div class=\"colab-df-container\">\n",
              "      <div>\n",
              "<style scoped>\n",
              "    .dataframe tbody tr th:only-of-type {\n",
              "        vertical-align: middle;\n",
              "    }\n",
              "\n",
              "    .dataframe tbody tr th {\n",
              "        vertical-align: top;\n",
              "    }\n",
              "\n",
              "    .dataframe thead th {\n",
              "        text-align: right;\n",
              "    }\n",
              "</style>\n",
              "<table border=\"1\" class=\"dataframe\">\n",
              "  <thead>\n",
              "    <tr style=\"text-align: right;\">\n",
              "      <th></th>\n",
              "      <th>Date</th>\n",
              "      <th>Close</th>\n",
              "    </tr>\n",
              "  </thead>\n",
              "  <tbody>\n",
              "    <tr>\n",
              "      <th>0</th>\n",
              "      <td>2017-01-01</td>\n",
              "      <td>997.75</td>\n",
              "    </tr>\n",
              "    <tr>\n",
              "      <th>1</th>\n",
              "      <td>2017-01-02</td>\n",
              "      <td>1012.54</td>\n",
              "    </tr>\n",
              "    <tr>\n",
              "      <th>2</th>\n",
              "      <td>2017-01-03</td>\n",
              "      <td>1035.24</td>\n",
              "    </tr>\n",
              "    <tr>\n",
              "      <th>3</th>\n",
              "      <td>2017-01-04</td>\n",
              "      <td>1114.92</td>\n",
              "    </tr>\n",
              "    <tr>\n",
              "      <th>4</th>\n",
              "      <td>2017-01-05</td>\n",
              "      <td>1004.74</td>\n",
              "    </tr>\n",
              "  </tbody>\n",
              "</table>\n",
              "</div>\n",
              "      <button class=\"colab-df-convert\" onclick=\"convertToInteractive('df-1509e688-af00-41ae-ad7f-9273f1c1b5e9')\"\n",
              "              title=\"Convert this dataframe to an interactive table.\"\n",
              "              style=\"display:none;\">\n",
              "        \n",
              "  <svg xmlns=\"http://www.w3.org/2000/svg\" height=\"24px\"viewBox=\"0 0 24 24\"\n",
              "       width=\"24px\">\n",
              "    <path d=\"M0 0h24v24H0V0z\" fill=\"none\"/>\n",
              "    <path d=\"M18.56 5.44l.94 2.06.94-2.06 2.06-.94-2.06-.94-.94-2.06-.94 2.06-2.06.94zm-11 1L8.5 8.5l.94-2.06 2.06-.94-2.06-.94L8.5 2.5l-.94 2.06-2.06.94zm10 10l.94 2.06.94-2.06 2.06-.94-2.06-.94-.94-2.06-.94 2.06-2.06.94z\"/><path d=\"M17.41 7.96l-1.37-1.37c-.4-.4-.92-.59-1.43-.59-.52 0-1.04.2-1.43.59L10.3 9.45l-7.72 7.72c-.78.78-.78 2.05 0 2.83L4 21.41c.39.39.9.59 1.41.59.51 0 1.02-.2 1.41-.59l7.78-7.78 2.81-2.81c.8-.78.8-2.07 0-2.86zM5.41 20L4 18.59l7.72-7.72 1.47 1.35L5.41 20z\"/>\n",
              "  </svg>\n",
              "      </button>\n",
              "      \n",
              "  <style>\n",
              "    .colab-df-container {\n",
              "      display:flex;\n",
              "      flex-wrap:wrap;\n",
              "      gap: 12px;\n",
              "    }\n",
              "\n",
              "    .colab-df-convert {\n",
              "      background-color: #E8F0FE;\n",
              "      border: none;\n",
              "      border-radius: 50%;\n",
              "      cursor: pointer;\n",
              "      display: none;\n",
              "      fill: #1967D2;\n",
              "      height: 32px;\n",
              "      padding: 0 0 0 0;\n",
              "      width: 32px;\n",
              "    }\n",
              "\n",
              "    .colab-df-convert:hover {\n",
              "      background-color: #E2EBFA;\n",
              "      box-shadow: 0px 1px 2px rgba(60, 64, 67, 0.3), 0px 1px 3px 1px rgba(60, 64, 67, 0.15);\n",
              "      fill: #174EA6;\n",
              "    }\n",
              "\n",
              "    [theme=dark] .colab-df-convert {\n",
              "      background-color: #3B4455;\n",
              "      fill: #D2E3FC;\n",
              "    }\n",
              "\n",
              "    [theme=dark] .colab-df-convert:hover {\n",
              "      background-color: #434B5C;\n",
              "      box-shadow: 0px 1px 3px 1px rgba(0, 0, 0, 0.15);\n",
              "      filter: drop-shadow(0px 1px 2px rgba(0, 0, 0, 0.3));\n",
              "      fill: #FFFFFF;\n",
              "    }\n",
              "  </style>\n",
              "\n",
              "      <script>\n",
              "        const buttonEl =\n",
              "          document.querySelector('#df-1509e688-af00-41ae-ad7f-9273f1c1b5e9 button.colab-df-convert');\n",
              "        buttonEl.style.display =\n",
              "          google.colab.kernel.accessAllowed ? 'block' : 'none';\n",
              "\n",
              "        async function convertToInteractive(key) {\n",
              "          const element = document.querySelector('#df-1509e688-af00-41ae-ad7f-9273f1c1b5e9');\n",
              "          const dataTable =\n",
              "            await google.colab.kernel.invokeFunction('convertToInteractive',\n",
              "                                                     [key], {});\n",
              "          if (!dataTable) return;\n",
              "\n",
              "          const docLinkHtml = 'Like what you see? Visit the ' +\n",
              "            '<a target=\"_blank\" href=https://colab.research.google.com/notebooks/data_table.ipynb>data table notebook</a>'\n",
              "            + ' to learn more about interactive tables.';\n",
              "          element.innerHTML = '';\n",
              "          dataTable['output_type'] = 'display_data';\n",
              "          await google.colab.output.renderOutput(dataTable, element);\n",
              "          const docLink = document.createElement('div');\n",
              "          docLink.innerHTML = docLinkHtml;\n",
              "          element.appendChild(docLink);\n",
              "        }\n",
              "      </script>\n",
              "    </div>\n",
              "  </div>\n",
              "  "
            ],
            "text/plain": [
              "         Date    Close\n",
              "0  2017-01-01   997.75\n",
              "1  2017-01-02  1012.54\n",
              "2  2017-01-03  1035.24\n",
              "3  2017-01-04  1114.92\n",
              "4  2017-01-05  1004.74"
            ]
          },
          "execution_count": 10,
          "metadata": {},
          "output_type": "execute_result"
        }
      ],
      "source": [
        "\n",
        "def newTestData(dates, closeprice):\n",
        "  new_df=pd.DataFrame()\n",
        "  new_df['Date']=dates\n",
        "  new_df['Close']=closeprice\n",
        "\n",
        "  return new_df\n",
        "df = newTestData(dates, closeprice)\n",
        "print(len(dates))\n",
        "df.head()"
      ]
    },
    {
      "cell_type": "code",
      "execution_count": 11,
      "metadata": {
        "colab": {
          "base_uri": "https://localhost:8080/",
          "height": 594
        },
        "id": "4XyoR5lG3Jxv",
        "outputId": "1081c6f0-01d2-4a86-c7ab-5af94ca2a4f4"
      },
      "outputs": [
        {
          "data": {
            "text/plain": [
              "Text(0, 0.5, 'Close Price (USD)')"
            ]
          },
          "execution_count": 11,
          "metadata": {},
          "output_type": "execute_result"
        },
        {
          "data": {
            "image/png": "[encoded data removed]",
            "text/plain": [
              "<Figure size 1200x600 with 1 Axes>"
            ]
          },
          "metadata": {},
          "output_type": "display_data"
        }
      ],
      "source": [
        "ax = df.plot(x='Date', y='Close');\n",
        "ax.set_xlabel(\"Date\")\n",
        "ax.set_ylabel(\"Close Price (USD)\")"
      ]
    },
    {
      "cell_type": "markdown",
      "metadata": {
        "id": "3ivO-PB1kF2l"
      },
      "source": [
        "# **Normalization**"
      ]
    },
    {
      "cell_type": "code",
      "execution_count": 12,
      "metadata": {
        "id": "Ux2FtgMAqObq"
      },
      "outputs": [],
      "source": [
        "scaler = MinMaxScaler()\n",
        "def normalization(df):\n",
        "  # scaler = MinMaxScaler()\n",
        "  close_price = df.Close.values.reshape(-1, 1)\n",
        "  scaled_close = scaler.fit_transform(close_price)\n",
        "  print(scaled_close.shape)\n",
        "  return scaled_close"
      ]
    },
    {
      "cell_type": "code",
      "execution_count": 24,
      "metadata": {
        "colab": {
          "base_uri": "https://localhost:8080/"
        },
        "id": "UprkaMWFvQOG",
        "outputId": "86f13a3a-9e9f-4014-e9d3-ab8f25f43d52"
      },
      "outputs": [
        {
          "name": "stdout",
          "output_type": "stream",
          "text": [
            "(2360, 1)\n"
          ]
        },
        {
          "data": {
            "text/plain": [
              "(2360, 1)"
            ]
          },
          "execution_count": 24,
          "metadata": {},
          "output_type": "execute_result"
        }
      ],
      "source": [
        "scaled_close = normalization(df)\n",
        "scaled_close.shape\n",
        "# scaled_close = scaled_close[:-1]\n",
        "# print(scaled_close.shape)"
      ]
    },
    {
      "cell_type": "code",
      "execution_count": 25,
      "metadata": {
        "colab": {
          "base_uri": "https://localhost:8080/"
        },
        "id": "pvTwFWeH-sMk",
        "outputId": "ba355b8b-4e1b-44b2-e527-9a1e02d179db"
      },
      "outputs": [
        {
          "name": "stdout",
          "output_type": "stream",
          "text": [
            "(2360, 1)\n",
            "(2359, 1)\n"
          ]
        },
        {
          "data": {
            "text/plain": [
              "array([[0.00350423],\n",
              "       [0.00384429],\n",
              "       [0.00503793],\n",
              "       ...,\n",
              "       [0.38546274],\n",
              "       [0.38289431],\n",
              "       [0.39040685]])"
            ]
          },
          "execution_count": 25,
          "metadata": {},
          "output_type": "execute_result"
        }
      ],
      "source": [
        "import numpy as np\n",
        "from scipy.ndimage import shift\n",
        "\n",
        "decoderInputs = scaled_close[::-1]\n",
        "print(decoderInputs.shape)\n",
        "decoderInputs = decoderInputs[:-1]\n",
        "decoderInputs = decoderInputs[::-1]\n",
        "scaled_close = scaled_close[:-1]\n",
        "print(decoderInputs.shape)\n",
        "decoderInputs"
      ]
    },
    {
      "cell_type": "code",
      "execution_count": 26,
      "metadata": {
        "colab": {
          "base_uri": "https://localhost:8080/"
        },
        "id": "-EMMARdqpOWw",
        "outputId": "9ca1035b-b4e7-4b5e-eeae-3892be197200"
      },
      "outputs": [
        {
          "name": "stdout",
          "output_type": "stream",
          "text": [
            "(2359, 1)\n"
          ]
        },
        {
          "data": {
            "text/plain": [
              "array([[0.00328267],\n",
              "       [0.00350423],\n",
              "       [0.00384429],\n",
              "       ...,\n",
              "       [0.38278208],\n",
              "       [0.38546274],\n",
              "       [0.38289431]])"
            ]
          },
          "execution_count": 26,
          "metadata": {},
          "output_type": "execute_result"
        }
      ],
      "source": [
        "print(scaled_close.shape)\n",
        "scaled_close"
      ]
    },
    {
      "cell_type": "code",
      "execution_count": 27,
      "metadata": {
        "id": "NS5O4-Vtq-N1"
      },
      "outputs": [],
      "source": [
        "SEQ_LEN = 101\n",
        "def to_sequences(data, seq_len):\n",
        "    d = []\n",
        "    for index in range(len(data) - seq_len):\n",
        "        d.append(data[index: index + seq_len])\n",
        "    # print(np.array(d).shape)\n",
        "    return np.array(d)\n",
        "def preprocess(data_raw, seq_len, train_split):\n",
        "    data = to_sequences(data_raw, seq_len)\n",
        "    num_train = int(train_split * data.shape[0])\n",
        "    X_train = data[:num_train, :-1, :]\n",
        "    y_train = data[:num_train, -1, :]\n",
        "\n",
        "    X_test = data[num_train:, :-1, :]\n",
        "    y_test = data[num_train:, -1, :]\n",
        "    return X_train, y_train, X_test, y_test\n",
        "def preprocessDecoderInput(decoderInputs, seq_len, train_split):\n",
        "    data = to_sequences(decoderInputs, seq_len)\n",
        "    num_train = int(train_split * data.shape[0])\n",
        "    X_train = data[:num_train, :-1, :]\n",
        "    y_train = data[:num_train, -1, :]\n",
        "\n",
        "    X_test = data[num_train:, :-1, :]\n",
        "    y_test = data[num_train:, -1, :]\n",
        "    return X_train, y_train, X_test, y_test\n",
        "\n",
        "X_train, y_train, X_test, y_test = preprocess(scaled_close, SEQ_LEN, train_split = 0.987)\n",
        "X_train_Decoder, y_train_Decoder, X_test_Decoder, y_test_Decoder = preprocessDecoderInput(scaled_close, SEQ_LEN, train_split = 0.987)"
      ]
    },
    {
      "cell_type": "code",
      "execution_count": 28,
      "metadata": {
        "colab": {
          "base_uri": "https://localhost:8080/"
        },
        "id": "XNBTUeaXreni",
        "outputId": "5420317f-0922-403f-f9bc-a9c6b63c3d41"
      },
      "outputs": [
        {
          "data": {
            "text/plain": [
              "(2228, 100, 1)"
            ]
          },
          "execution_count": 28,
          "metadata": {},
          "output_type": "execute_result"
        }
      ],
      "source": [
        "X_train.shape"
      ]
    },
    {
      "cell_type": "code",
      "execution_count": 29,
      "metadata": {
        "colab": {
          "base_uri": "https://localhost:8080/"
        },
        "id": "4IOoiN3pUUgO",
        "outputId": "e3a818ee-0334-48db-b7cb-556fcdafa5f3"
      },
      "outputs": [
        {
          "data": {
            "text/plain": [
              "(30, 100, 1)"
            ]
          },
          "execution_count": 29,
          "metadata": {},
          "output_type": "execute_result"
        }
      ],
      "source": [
        "X_test.shape"
      ]
    },
    {
      "cell_type": "code",
      "execution_count": 30,
      "metadata": {
        "colab": {
          "base_uri": "https://localhost:8080/"
        },
        "id": "l8_QZqeNXjUJ",
        "outputId": "c545e376-13cd-4819-9b23-c79306feba89"
      },
      "outputs": [
        {
          "data": {
            "text/plain": [
              "(2228, 1)"
            ]
          },
          "execution_count": 30,
          "metadata": {},
          "output_type": "execute_result"
        }
      ],
      "source": [
        "y_train.shape"
      ]
    },
    {
      "cell_type": "code",
      "execution_count": 31,
      "metadata": {
        "colab": {
          "base_uri": "https://localhost:8080/"
        },
        "id": "z85B3QfmXlxt",
        "outputId": "78791e96-cfc1-40f2-e1e7-f852db44502e"
      },
      "outputs": [
        {
          "data": {
            "text/plain": [
              "(30, 1)"
            ]
          },
          "execution_count": 31,
          "metadata": {},
          "output_type": "execute_result"
        }
      ],
      "source": [
        "y_test.shape"
      ]
    },
    {
      "cell_type": "code",
      "execution_count": 32,
      "metadata": {
        "colab": {
          "base_uri": "https://localhost:8080/"
        },
        "id": "V8R6-Tt5qX27",
        "outputId": "ed6c0941-d900-4a00-d0ea-8222727df41f"
      },
      "outputs": [
        {
          "data": {
            "text/plain": [
              "(2228, 100, 1)"
            ]
          },
          "execution_count": 32,
          "metadata": {},
          "output_type": "execute_result"
        }
      ],
      "source": [
        "X_train_Decoder.shape"
      ]
    },
    {
      "cell_type": "code",
      "execution_count": 33,
      "metadata": {
        "colab": {
          "base_uri": "https://localhost:8080/"
        },
        "id": "VhbB9UqWqfPc",
        "outputId": "c706e893-3742-4fdd-a1d0-a3ad27cedfc0"
      },
      "outputs": [
        {
          "data": {
            "text/plain": [
              "(2228, 1)"
            ]
          },
          "execution_count": 33,
          "metadata": {},
          "output_type": "execute_result"
        }
      ],
      "source": [
        "y_train_Decoder.shape"
      ]
    },
    {
      "cell_type": "markdown",
      "metadata": {
        "id": "QhQdvOhvkJcE"
      },
      "source": [
        "# **Model Architecture**"
      ]
    },
    {
      "cell_type": "code",
      "execution_count": 56,
      "metadata": {
        "id": "OhLVT3Sr1-bd"
      },
      "outputs": [],
      "source": [
        "class EncoderDecoder(tf.keras.Model):\n",
        "  def __init__(self, X_train):\n",
        "    super(EncoderDecoder, self).__init__()\n",
        "\n",
        "    self.encoder = LSTM(22, return_sequences = True, return_state = True, name = 'Encoder', input_shape = (X_train.shape[1], X_train.shape[2]))\n",
        "    self.decoder = LSTM(22, return_sequences = True, return_state = True, name = 'Decoder')\n",
        "    self.dense = Dense(1, activation = 'linear', name = 'Dense')\n",
        "    self.dropout = Dropout(0.2)\n",
        "    self.flatten = Flatten()\n",
        "\n",
        "  def __call__(self, encoder_inputs, decoder_input):\n",
        "    encoderOutput, state_h, state_c = self.encoder(encoder_inputs)\n",
        "    encoderState = [state_h, state_c]\n",
        "    decoderOutput, _, _ = self.decoder(decoder_input, initial_state = encoderState)\n",
        "    x = self.dropout(decoderOutput)\n",
        "    x = self.flatten(x)\n",
        "    denseOutput = self.dense(x)\n",
        "\n",
        "    return denseOutput\n",
        "\n"
      ]
    },
    {
      "cell_type": "code",
      "execution_count": 57,
      "metadata": {
        "colab": {
          "base_uri": "https://localhost:8080/"
        },
        "id": "QYOOghJt-A-p",
        "outputId": "067861b6-4bf6-4090-f961-b251473400cf"
      },
      "outputs": [
        {
          "name": "stdout",
          "output_type": "stream",
          "text": [
            "(None, 100, 1)\n",
            "(None, 100, 1)\n",
            "Model: \"model_1\"\n",
            "__________________________________________________________________________________________________\n",
            " Layer (type)                   Output Shape         Param #     Connected to                     \n",
            "==================================================================================================\n",
            " input_23 (InputLayer)          [(None, 100, 1)]     0           []                               \n",
            "                                                                                                  \n",
            " input_24 (InputLayer)          [(None, 100, 1)]     0           []                               \n",
            "                                                                                                  \n",
            " Encoder (LSTM)                 [(None, 100, 22),    2112        ['input_23[0][0]']               \n",
            "                                 (None, 22),                                                      \n",
            "                                 (None, 22)]                                                      \n",
            "                                                                                                  \n",
            " Decoder (LSTM)                 [(None, 100, 22),    2112        ['input_24[0][0]',               \n",
            "                                 (None, 22),                      'Encoder[0][1]',                \n",
            "                                 (None, 22)]                      'Encoder[0][2]']                \n",
            "                                                                                                  \n",
            " dropout_15 (Dropout)           (None, 100, 22)      0           ['Decoder[0][0]']                \n",
            "                                                                                                  \n",
            " flatten_15 (Flatten)           (None, 2200)         0           ['dropout_15[0][0]']             \n",
            "                                                                                                  \n",
            " Dense (Dense)                  (None, 1)            2201        ['flatten_15[0][0]']             \n",
            "                                                                                                  \n",
            "==================================================================================================\n",
            "Total params: 6,425\n",
            "Trainable params: 6,425\n",
            "Non-trainable params: 0\n",
            "__________________________________________________________________________________________________\n",
            "None\n"
          ]
        }
      ],
      "source": [
        "ED = EncoderDecoder(X_train)\n",
        "encoder_inputs = tf.keras.layers.Input(shape = (X_train.shape[1],X_train.shape[2]))\n",
        "decoder_inputs = tf.keras.layers.Input(shape = (X_train_Decoder.shape[1], X_train_Decoder.shape[2]))\n",
        "# encoder_inputs = (X_train.shape[0], X_train.shape[1], X_train.shape[2])\n",
        "# decoder_inputs = (X_train_Decoder.shape[0], X_train_Decoder.shape[1], X_train_Decoder.shape[2])\n",
        "print(encoder_inputs.shape)\n",
        "print(decoder_inputs.shape)\n",
        "outputs = ED(encoder_inputs, decoder_inputs)\n",
        "model = tf.keras.Model(inputs=[encoder_inputs, decoder_inputs], outputs=outputs)\n",
        "opt=tf.keras.optimizers.Adam(learning_rate=1e-3)\n",
        "model.compile(loss='mean_squared_error', optimizer=opt)\n",
        "print(model.summary())"
      ]
    },
    {
      "cell_type": "code",
      "execution_count": 60,
      "metadata": {
        "colab": {
          "base_uri": "https://localhost:8080/"
        },
        "id": "n-zi3AJdqrmr",
        "outputId": "6d932b21-e529-40f7-e159-6bf4a9eda6fe"
      },
      "outputs": [
        {
          "name": "stdout",
          "output_type": "stream",
          "text": [
            "Epoch 1/100\n",
            "19/19 [==============================] - 9s 162ms/step - loss: 0.0151 - val_loss: 0.0207\n",
            "Epoch 2/100\n",
            "19/19 [==============================] - 2s 107ms/step - loss: 0.0270 - val_loss: 0.0491\n",
            "Epoch 3/100\n",
            "19/19 [==============================] - 2s 104ms/step - loss: 0.0226 - val_loss: 0.0289\n",
            "Epoch 4/100\n",
            "19/19 [==============================] - 3s 149ms/step - loss: 0.0408 - val_loss: 0.0121\n",
            "Epoch 5/100\n",
            "19/19 [==============================] - 3s 131ms/step - loss: 0.0311 - val_loss: 0.0221\n",
            "Epoch 6/100\n",
            "19/19 [==============================] - 2s 106ms/step - loss: 0.0462 - val_loss: 2.8107e-04\n",
            "Epoch 7/100\n",
            "19/19 [==============================] - 2s 108ms/step - loss: 0.0164 - val_loss: 0.0011\n",
            "Epoch 8/100\n",
            "19/19 [==============================] - 2s 106ms/step - loss: 0.0166 - val_loss: 3.0205e-04\n",
            "Epoch 9/100\n",
            "19/19 [==============================] - 2s 106ms/step - loss: 0.0076 - val_loss: 4.8615e-04\n",
            "Epoch 10/100\n",
            "19/19 [==============================] - 3s 169ms/step - loss: 0.0061 - val_loss: 2.5091e-04\n",
            "Epoch 11/100\n",
            "19/19 [==============================] - 2s 106ms/step - loss: 0.0041 - val_loss: 7.9861e-04\n",
            "Epoch 12/100\n",
            "19/19 [==============================] - 2s 105ms/step - loss: 0.0036 - val_loss: 6.6580e-04\n",
            "Epoch 13/100\n",
            "19/19 [==============================] - 2s 108ms/step - loss: 0.0029 - val_loss: 6.0977e-04\n",
            "Epoch 14/100\n",
            "19/19 [==============================] - 2s 105ms/step - loss: 0.0029 - val_loss: 8.0513e-04\n",
            "Epoch 15/100\n",
            "19/19 [==============================] - 2s 105ms/step - loss: 0.0025 - val_loss: 5.0627e-04\n",
            "Epoch 16/100\n",
            "19/19 [==============================] - 3s 175ms/step - loss: 0.0026 - val_loss: 0.0011\n",
            "Epoch 17/100\n",
            "19/19 [==============================] - 2s 107ms/step - loss: 0.0024 - val_loss: 3.2657e-04\n",
            "Epoch 18/100\n",
            "19/19 [==============================] - 2s 104ms/step - loss: 0.0027 - val_loss: 0.0015\n",
            "Epoch 19/100\n",
            "19/19 [==============================] - 2s 108ms/step - loss: 0.0027 - val_loss: 1.0677e-04\n",
            "Epoch 20/100\n",
            "19/19 [==============================] - 2s 106ms/step - loss: 0.0037 - val_loss: 0.0022\n",
            "Epoch 21/100\n",
            "19/19 [==============================] - 2s 116ms/step - loss: 0.0042 - val_loss: 2.7752e-04\n",
            "Epoch 22/100\n",
            "19/19 [==============================] - 3s 158ms/step - loss: 0.0070 - val_loss: 0.0028\n",
            "Epoch 23/100\n",
            "19/19 [==============================] - 2s 106ms/step - loss: 0.0077 - val_loss: 0.0012\n",
            "Epoch 24/100\n",
            "19/19 [==============================] - 2s 101ms/step - loss: 0.0122 - val_loss: 0.0022\n",
            "Epoch 25/100\n",
            "19/19 [==============================] - 2s 107ms/step - loss: 0.0083 - val_loss: 9.3621e-04\n",
            "Epoch 26/100\n",
            "19/19 [==============================] - 2s 102ms/step - loss: 0.0090 - val_loss: 0.0027\n",
            "Epoch 27/100\n",
            "19/19 [==============================] - 3s 148ms/step - loss: 0.0050 - val_loss: 1.4142e-04\n",
            "Epoch 28/100\n",
            "19/19 [==============================] - 4s 191ms/step - loss: 0.0037 - val_loss: 0.0020\n",
            "Epoch 29/100\n",
            "19/19 [==============================] - 3s 151ms/step - loss: 0.0026 - val_loss: 2.8421e-04\n",
            "Epoch 30/100\n",
            "19/19 [==============================] - 2s 106ms/step - loss: 0.0019 - val_loss: 9.3796e-04\n",
            "Epoch 31/100\n",
            "19/19 [==============================] - 2s 105ms/step - loss: 0.0017 - val_loss: 5.6849e-04\n",
            "Epoch 32/100\n",
            "19/19 [==============================] - 3s 134ms/step - loss: 0.0017 - val_loss: 7.0128e-04\n",
            "Epoch 33/100\n",
            "19/19 [==============================] - 4s 227ms/step - loss: 0.0016 - val_loss: 5.9724e-04\n",
            "Epoch 34/100\n",
            "19/19 [==============================] - 5s 267ms/step - loss: 0.0015 - val_loss: 5.4728e-04\n",
            "Epoch 35/100\n",
            "19/19 [==============================] - 6s 327ms/step - loss: 0.0016 - val_loss: 6.7825e-04\n",
            "Epoch 36/100\n",
            "19/19 [==============================] - 4s 226ms/step - loss: 0.0015 - val_loss: 5.0817e-04\n",
            "Epoch 37/100\n",
            "19/19 [==============================] - 4s 199ms/step - loss: 0.0014 - val_loss: 6.9469e-04\n",
            "Epoch 38/100\n",
            "19/19 [==============================] - 5s 268ms/step - loss: 0.0015 - val_loss: 4.3150e-04\n",
            "Epoch 39/100\n",
            "19/19 [==============================] - 4s 212ms/step - loss: 0.0015 - val_loss: 7.4800e-04\n",
            "Epoch 40/100\n",
            "19/19 [==============================] - 2s 108ms/step - loss: 0.0014 - val_loss: 2.3038e-04\n",
            "Epoch 41/100\n",
            "19/19 [==============================] - 2s 105ms/step - loss: 0.0015 - val_loss: 0.0011\n",
            "Epoch 42/100\n",
            "19/19 [==============================] - 2s 116ms/step - loss: 0.0016 - val_loss: 8.4732e-05\n",
            "Epoch 43/100\n",
            "19/19 [==============================] - 3s 160ms/step - loss: 0.0020 - val_loss: 0.0021\n",
            "Epoch 44/100\n",
            "19/19 [==============================] - 2s 98ms/step - loss: 0.0023 - val_loss: 4.6465e-04\n",
            "Epoch 45/100\n",
            "19/19 [==============================] - 2s 102ms/step - loss: 0.0040 - val_loss: 0.0045\n",
            "Epoch 46/100\n",
            "19/19 [==============================] - 3s 158ms/step - loss: 0.0051 - val_loss: 0.0028\n",
            "Epoch 47/100\n",
            "19/19 [==============================] - 5s 265ms/step - loss: 0.0097 - val_loss: 0.0070\n",
            "Epoch 48/100\n",
            "19/19 [==============================] - 2s 116ms/step - loss: 0.0080 - val_loss: 0.0045\n",
            "Epoch 49/100\n",
            "19/19 [==============================] - 2s 107ms/step - loss: 0.0097 - val_loss: 0.0080\n",
            "Epoch 50/100\n",
            "19/19 [==============================] - 2s 111ms/step - loss: 0.0055 - val_loss: 8.7128e-04\n",
            "Epoch 51/100\n",
            "19/19 [==============================] - 2s 106ms/step - loss: 0.0032 - val_loss: 0.0013\n",
            "Epoch 52/100\n",
            "19/19 [==============================] - 2s 107ms/step - loss: 0.0025 - val_loss: 6.0638e-04\n",
            "Epoch 53/100\n",
            "19/19 [==============================] - 3s 173ms/step - loss: 0.0022 - val_loss: 7.7230e-05\n",
            "Epoch 54/100\n",
            "19/19 [==============================] - 2s 108ms/step - loss: 0.0033 - val_loss: 0.0019\n",
            "Epoch 55/100\n",
            "19/19 [==============================] - 2s 107ms/step - loss: 0.0033 - val_loss: 3.9382e-04\n",
            "Epoch 56/100\n",
            "19/19 [==============================] - 2s 110ms/step - loss: 0.0051 - val_loss: 0.0024\n",
            "Epoch 57/100\n",
            "19/19 [==============================] - 2s 109ms/step - loss: 0.0045 - val_loss: 8.4119e-04\n",
            "Epoch 58/100\n",
            "19/19 [==============================] - 3s 135ms/step - loss: 0.0066 - val_loss: 0.0024\n",
            "Epoch 59/100\n",
            "19/19 [==============================] - 3s 150ms/step - loss: 0.0047 - val_loss: 8.9469e-04\n",
            "Epoch 60/100\n",
            "19/19 [==============================] - 2s 105ms/step - loss: 0.0058 - val_loss: 0.0026\n",
            "Epoch 61/100\n",
            "19/19 [==============================] - 2s 108ms/step - loss: 0.0034 - val_loss: 5.1233e-04\n",
            "Epoch 62/100\n",
            "19/19 [==============================] - 2s 110ms/step - loss: 0.0034 - val_loss: 0.0026\n",
            "Epoch 63/100\n",
            "19/19 [==============================] - 2s 107ms/step - loss: 0.0022 - val_loss: 8.5403e-05\n",
            "Epoch 64/100\n",
            "19/19 [==============================] - 3s 158ms/step - loss: 0.0019 - val_loss: 0.0013\n",
            "Epoch 65/100\n",
            "19/19 [==============================] - 2s 124ms/step - loss: 0.0015 - val_loss: 1.6652e-04\n",
            "Epoch 66/100\n",
            "19/19 [==============================] - 2s 110ms/step - loss: 0.0014 - val_loss: 8.8713e-04\n",
            "Epoch 67/100\n",
            "19/19 [==============================] - 2s 104ms/step - loss: 0.0012 - val_loss: 1.8235e-04\n",
            "Epoch 68/100\n",
            "19/19 [==============================] - 2s 104ms/step - loss: 0.0014 - val_loss: 9.7022e-04\n",
            "Epoch 69/100\n",
            "19/19 [==============================] - 2s 110ms/step - loss: 0.0013 - val_loss: 1.2187e-04\n",
            "Epoch 70/100\n",
            "19/19 [==============================] - 3s 177ms/step - loss: 0.0016 - val_loss: 0.0011\n",
            "Epoch 71/100\n",
            "19/19 [==============================] - 2s 107ms/step - loss: 0.0015 - val_loss: 7.6291e-05\n",
            "Epoch 72/100\n",
            "19/19 [==============================] - 2s 108ms/step - loss: 0.0019 - val_loss: 0.0014\n",
            "Epoch 73/100\n",
            "19/19 [==============================] - 2s 105ms/step - loss: 0.0018 - val_loss: 1.4454e-04\n",
            "Epoch 74/100\n",
            "19/19 [==============================] - 2s 106ms/step - loss: 0.0026 - val_loss: 0.0019\n",
            "Epoch 75/100\n",
            "19/19 [==============================] - 2s 103ms/step - loss: 0.0027 - val_loss: 4.9825e-04\n",
            "Epoch 76/100\n",
            "19/19 [==============================] - 3s 171ms/step - loss: 0.0042 - val_loss: 0.0024\n",
            "Epoch 77/100\n",
            "19/19 [==============================] - 2s 106ms/step - loss: 0.0037 - val_loss: 0.0010\n",
            "Epoch 78/100\n",
            "19/19 [==============================] - 2s 107ms/step - loss: 0.0055 - val_loss: 0.0027\n",
            "Epoch 79/100\n",
            "19/19 [==============================] - 2s 108ms/step - loss: 0.0040 - val_loss: 8.7226e-04\n",
            "Epoch 80/100\n",
            "19/19 [==============================] - 2s 103ms/step - loss: 0.0048 - val_loss: 0.0023\n",
            "Epoch 81/100\n",
            "19/19 [==============================] - 2s 123ms/step - loss: 0.0031 - val_loss: 4.4058e-04\n",
            "Epoch 82/100\n",
            "19/19 [==============================] - 3s 157ms/step - loss: 0.0034 - val_loss: 0.0020\n",
            "Epoch 83/100\n",
            "19/19 [==============================] - 2s 109ms/step - loss: 0.0023 - val_loss: 1.8183e-04\n",
            "Epoch 84/100\n",
            "19/19 [==============================] - 2s 108ms/step - loss: 0.0026 - val_loss: 0.0017\n",
            "Epoch 85/100\n",
            "19/19 [==============================] - 2s 107ms/step - loss: 0.0019 - val_loss: 1.0089e-04\n",
            "Epoch 86/100\n",
            "19/19 [==============================] - 2s 107ms/step - loss: 0.0020 - val_loss: 0.0014\n",
            "Epoch 87/100\n",
            "19/19 [==============================] - 3s 149ms/step - loss: 0.0016 - val_loss: 7.7770e-05\n",
            "Epoch 88/100\n",
            "19/19 [==============================] - 3s 131ms/step - loss: 0.0020 - val_loss: 0.0013\n",
            "Epoch 89/100\n",
            "19/19 [==============================] - 2s 107ms/step - loss: 0.0017 - val_loss: 1.1841e-04\n",
            "Epoch 90/100\n",
            "19/19 [==============================] - 2s 107ms/step - loss: 0.0024 - val_loss: 0.0014\n",
            "Epoch 91/100\n",
            "19/19 [==============================] - 2s 106ms/step - loss: 0.0021 - val_loss: 2.0890e-04\n",
            "Epoch 92/100\n",
            "19/19 [==============================] - 2s 110ms/step - loss: 0.0031 - val_loss: 0.0017\n",
            "Epoch 93/100\n",
            "19/19 [==============================] - 3s 172ms/step - loss: 0.0026 - val_loss: 4.4434e-04\n",
            "Epoch 94/100\n",
            "19/19 [==============================] - 2s 109ms/step - loss: 0.0038 - val_loss: 0.0018\n",
            "Epoch 95/100\n",
            "19/19 [==============================] - 2s 108ms/step - loss: 0.0027 - val_loss: 5.3459e-04\n",
            "Epoch 96/100\n",
            "19/19 [==============================] - 2s 113ms/step - loss: 0.0035 - val_loss: 0.0022\n",
            "Epoch 97/100\n",
            "19/19 [==============================] - 2s 108ms/step - loss: 0.0022 - val_loss: 6.7767e-04\n",
            "Epoch 98/100\n",
            "19/19 [==============================] - 2s 117ms/step - loss: 0.0021 - val_loss: 0.0019\n",
            "Epoch 99/100\n",
            "19/19 [==============================] - 3s 168ms/step - loss: 0.0015 - val_loss: 7.5575e-05\n",
            "Epoch 100/100\n",
            "19/19 [==============================] - 2s 107ms/step - loss: 0.0012 - val_loss: 6.3169e-04\n"
          ]
        }
      ],
      "source": [
        "BATCH_SIZE = 120\n",
        "\n",
        "history = model.fit(\n",
        "    [X_train, X_train_Decoder], y_train,\n",
        "    validation_data=([X_test, X_test_Decoder], y_test),\n",
        "    epochs=100,\n",
        "    batch_size=BATCH_SIZE,\n",
        "    shuffle=False,\n",
        "    validation_split=0.1\n",
        ")"
      ]
    },
    {
      "cell_type": "code",
      "execution_count": 61,
      "metadata": {
        "colab": {
          "base_uri": "https://localhost:8080/"
        },
        "id": "z2WhyJvQ5lIM",
        "outputId": "010e385c-9863-4273-de14-ca28f0a87bb0"
      },
      "outputs": [
        {
          "name": "stdout",
          "output_type": "stream",
          "text": [
            "1/1 [==============================] - 0s 48ms/step - loss: 6.3169e-04\n"
          ]
        },
        {
          "data": {
            "text/plain": [
              "0.0006316947401501238"
            ]
          },
          "execution_count": 61,
          "metadata": {},
          "output_type": "execute_result"
        }
      ],
      "source": [
        "model.evaluate([X_test, X_test_Decoder], y_test)"
      ]
    },
    {
      "cell_type": "code",
      "execution_count": 65,
      "metadata": {
        "colab": {
          "base_uri": "https://localhost:8080/",
          "height": 605
        },
        "id": "HqABJHHH6VDa",
        "outputId": "8633b4e3-aa93-42e5-d5bf-6462b579f999"
      },
      "outputs": [
        {
          "data": {
            "image/png": "[encoded data removed]",
            "text/plain": [
              "<Figure size 1200x600 with 1 Axes>"
            ]
          },
          "metadata": {},
          "output_type": "display_data"
        }
      ],
      "source": [
        "plt.plot(history.history['loss'])\n",
        "plt.plot(history.history['val_loss'])\n",
        "plt.title('model loss')\n",
        "plt.ylabel('loss')\n",
        "plt.xlabel('epoch')\n",
        "plt.legend(['train', 'test'], loc='upper left')\n",
        "plt.show()"
      ]
    },
    {
      "cell_type": "code",
      "execution_count": 66,
      "metadata": {
        "colab": {
          "base_uri": "https://localhost:8080/",
          "height": 640
        },
        "id": "15Vkoqy06izQ",
        "outputId": "f3ac6c89-6b56-44de-91c6-43fa3caa5f53"
      },
      "outputs": [
        {
          "name": "stdout",
          "output_type": "stream",
          "text": [
            "1/1 [==============================] - 1s 1s/step\n",
            "(30, 1)\n"
          ]
        },
        {
          "data": {
            "image/png": "[encoded data removed]",
            "text/plain": [
              "<Figure size 1200x600 with 1 Axes>"
            ]
          },
          "metadata": {},
          "output_type": "display_data"
        }
      ],
      "source": [
        "# Testing on entire data\n",
        "y_hat = model.predict([X_test, X_test_Decoder])\n",
        "# y_hat = y_hat.transpose(2,0,1).reshape(X_train_series_sub[0], -1)\n",
        "print(y_hat.shape)\n",
        "y_test_inverse = scaler.inverse_transform(y_test)\n",
        "y_hat_inverse = scaler.inverse_transform(y_hat)\n",
        "\n",
        "plt.plot(y_test_inverse, label=\"Actual Price\", color='green')\n",
        "plt.plot(y_hat_inverse, label=\"Predicted Price\", color='red')\n",
        "\n",
        "plt.title('Bitcoin price prediction')\n",
        "plt.xlabel('Time')\n",
        "plt.ylabel('Price')\n",
        "plt.legend(loc='best')\n",
        "\n",
        "plt.show();"
      ]
    },
    {
      "cell_type": "code",
      "execution_count": 67,
      "metadata": {
        "id": "QJ__Le0Yq_JU"
      },
      "outputs": [],
      "source": [
        "def Accuracy(y_hat_inverse, y_test_inverse):\n",
        "  diff = abs(y_hat_inverse - y_test_inverse)\n",
        "  accuracy = 100 - (100 * (diff/y_test_inverse))\n",
        "  accuracy = sum(accuracy)/len(accuracy)\n",
        "  return accuracy\n"
      ]
    },
    {
      "cell_type": "code",
      "execution_count": 68,
      "metadata": {
        "colab": {
          "base_uri": "https://localhost:8080/"
        },
        "id": "7kVA9TqirfiF",
        "outputId": "0f578172-3308-4866-8eff-55e2e1d65ea5"
      },
      "outputs": [
        {
          "name": "stdout",
          "output_type": "stream",
          "text": [
            "Accuracy of the Model:  [94.03827539]\n"
          ]
        }
      ],
      "source": [
        "print(\"Accuracy of the Model: \",Accuracy(y_hat_inverse, y_test_inverse))"
      ]
    },
    {
      "cell_type": "code",
      "execution_count": null,
      "metadata": {
        "id": "jHNiht0BpiIs"
      },
      "outputs": [],
      "source": [
        "model.save('Bitcoin-Encoder-Decoder.h5')"
      ]
    }
  ],
  "metadata": {
    "colab": {
      "provenance": []
    },
    "kernelspec": {
      "display_name": "Python 3",
      "name": "python3"
    },
    "language_info": {
      "name": "python"
    }
  },
  "nbformat": 4,
  "nbformat_minor": 0
}
